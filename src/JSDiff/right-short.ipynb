{
 "metadata": {
  "name": "Untitled0"
 },
 "nbformat": 3,
 "nbformat_minor": 0,
 "worksheets": [
  {
   "cells": [
    {
     "cell_type": "heading",
     "level": 1,
     "metadata": {},
     "source": "This is a header\n"
    },
    {
     "cell_type": "code",
     "collapsed": false,
     "input": "print 'hello'",
     "language": "python",
     "metadata": {},
     "outputs": [
      {
       "metadata": {},
       "output_type": "pyout",
       "prompt_number": 41,
       "text": "hello"
      }
     ],
     "prompt_number": 41
    }
   ],
   "metadata": {}
  }
 ]
}
