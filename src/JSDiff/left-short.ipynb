{
 "metadata": {
  "name": "Untitled0"
 },
 "nbformat": 3,
 "nbformat_minor": 0,
 "worksheets": [
  {
   "cells": [
    {
     "cell_type": "heading",
     "level": 1,
     "metadata": {},
     "source": "This is a header\n"
    },
    {
     "cell_type": "code",
     "collapsed": false,
     "input": "import matplotlib.pyplot as plt\nx = linspace(0, 5, 10)\ny = x ** 2\n\nfig1 = figure()\nplot(x, y, 'r')\nxlabel('x')\nylabel('y')\ntitle('title')",
     "language": "python",
     "metadata": {},
     "outputs": [
      {
       "metadata": {},
       "output_type": "pyout",
       "prompt_number": 41,
       "text": "<matplotlib.text.Text at 0xb8aa358>"
      }
     ],
     "prompt_number": 41
    }
   ],
   "metadata": {}
  }
 ]
}
