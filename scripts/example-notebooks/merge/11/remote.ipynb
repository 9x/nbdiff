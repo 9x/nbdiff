{
 "metadata": {
  "name": "Burble",
  "nbdiff-type": "merge"
 },
 "nbformat": 3,
 "nbformat_minor": 0,
 "worksheets": [
  {
    "cells": [
   {
     "cell_type": "code",
     "collapsed": false,
     "input": [
      "print 'freezing point of water:', fahr_to_kelvin(32)\n",
      "print 'boiling point of water:', fahr_to_kelvin(212)"
     ],
     "language": "python",
     "metadata": {
      "cell_tags": []
     },
     "outputs": [
      {
       "output_type": "stream",
       "stream": "stdout",
       "text": [
        "freezing point of water: 273.15\n",
        "boiling point of water: 273.15\n"
       ]
      }
     ],
     "prompt_number": 2
    }
   ],
   "metadata": {}
  }
 ]
}