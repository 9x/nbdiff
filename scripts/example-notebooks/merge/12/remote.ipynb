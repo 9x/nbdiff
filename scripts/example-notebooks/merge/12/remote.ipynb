{
 "metadata": {
  "name": "baz"
 },
 "nbformat": 3,
 "nbformat_minor": 0,
 "worksheets": []
}
