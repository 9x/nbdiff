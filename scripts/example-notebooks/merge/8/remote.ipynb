{
 "metadata": {
  "name": "Burble"
 },
 "nbformat": 3,
 "nbformat_minor": 0,
 "worksheets": [
  {
   "cells": [
   {
     "cell_type": "code",
     "collapsed": false,
     "input": [
      "print 'hello world!\n'",
      "print 'you should drink water!\n'"
     ],
     "language": "python",
     "metadata": {
      "cell_tags": []
     },
     "outputs": [
      {
       "output_type": "stream",
       "stream": "stdout",
       "text": [
        "hello worls!\n",
        "you should drink water\n"
       ]
      }
     ],
     "prompt_number": 2
    }
   ],
   "metadata": {}
  }
 ]
}
