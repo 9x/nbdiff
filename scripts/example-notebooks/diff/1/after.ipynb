{
 "metadata": {
  "name": "Untitled1"
 },
 "nbformat": 3,
 "nbformat_minor": 0,
 "worksheets": [
  {
   "cells": [
    {
      "cell_type": "heading",
      "level": 1,
      "source": [
        "IPython is super cool"
      ],
      "metadata": {}
    },
    {
     "cell_type": "code",
     "collapsed": false,
     "input": [
       "for i in range(100):",
       "    if i % 5 == 0 and i % 3 == 0:",
       "        print 'FizzBuzz!'",
       "    elif i % 5 == 0:",
       "        print 'Fizz!'",
       "    elif i % 3 == 0:",
       "        print 'Buzz!'"
     ],
     "language": "python",
     "metadata": {},
     "outputs": [
      {
       "output_type": "pyout",
       "prompt_number": 3,
       "text": [
       ]
      }
     ],
     "prompt_number": 3
    },
    {
     "cell_type": "code",
     "collapsed": false,
     "input": [
        "baz",
        "burble",
        "bop",
        "woop"
     ],
     "language": "python",
     "metadata": {},
     "outputs": [
      {
       "output_type": "pyout",
       "prompt_number": 4,
       "text": [
        "{'asdf': 10, 'fdsa': 20}"
       ]
      }
     ],
     "prompt_number": 4
    }
   ],
   "metadata": {}
  }
 ]
}
