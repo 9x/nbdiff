Ceci n'est pas un cahier.
